{
 "cells": [
  {
   "cell_type": "markdown",
   "metadata": {},
   "source": [
    "- generate parity check matrices\n",
    "- simulate noise\n",
    "- decode with MWPM decoder\n",
    "- plot toric code with errors"
   ]
  },
  {
   "cell_type": "code",
   "execution_count": 5,
   "metadata": {},
   "outputs": [],
   "source": [
    "import random as rd\n",
    "import matplotlib.pyplot as plt\n",
    "\n",
    "from utilities import l, read_matrix_from_file, add_mod_two\n",
    "from MWPM_decoder import decode\n",
    "from plot import plot_grid, plot_error, plot_points, plot_syndrome"
   ]
  },
  {
   "cell_type": "code",
   "execution_count": 6,
   "metadata": {},
   "outputs": [],
   "source": [
    "p = 0.12\n",
    "\n",
    "def simulate_noise(l, p_error):\n",
    "    error = []\n",
    "    for q in range(2 * l * l):\n",
    "        if rd.random() < p_error:\n",
    "            error.append(q)\n",
    "    return error\n",
    "\n",
    "def compute_syndrome(error, H):\n",
    "    syndrome = []\n",
    "    for check in H:\n",
    "        w = 0\n",
    "        for q in check:\n",
    "            if q in error:\n",
    "                w += 1\n",
    "        syndrome.append(w % 2)\n",
    "    return [i for i in range(l*l) if syndrome[i]]\n",
    "\n",
    "def check_for_horizontal_logical_error(total_error, l):\n",
    "    w = 0\n",
    "    for i in range(l):\n",
    "        if l*l + l*i in total_error:\n",
    "            w += 1\n",
    "    return (w % 2)\n",
    "\n",
    "def check_for_vertical_logical_error(total_error, l):\n",
    "    w = 0\n",
    "    for i in range(l):\n",
    "        if i in total_error:\n",
    "            w += 1\n",
    "    return (w % 2)"
   ]
  },
  {
   "cell_type": "code",
   "execution_count": 17,
   "metadata": {},
   "outputs": [
    {
     "name": "stdout",
     "output_type": "stream",
     "text": [
      "error: [14, 23, 24, 28, 34, 35, 36, 43, 54, 56, 58, 62, 69, 71, 79, 83, 88, 90, 94]\n",
      "total_error: [14, 23, 24, 28, 34, 56, 58, 62, 69, 71, 79, 83, 90, 70, 10, 17, 13, 57]\n"
     ]
    },
    {
     "data": {
      "image/png": "[encoded data removed]",
      "text/plain": [
       "<Figure size 640x480 with 1 Axes>"
      ]
     },
     "metadata": {},
     "output_type": "display_data"
    }
   ],
   "source": [
    "error = simulate_noise(l, p)\n",
    "print('error:', error)\n",
    "\n",
    "Hx = read_matrix_from_file('data/Hx_{}.txt'.format(l))\n",
    "# print('Hx:', Hx)\n",
    "\n",
    "syndrome = compute_syndrome(error, Hx)\n",
    "# print('syndrome:', syndrome)\n",
    "\n",
    "recovery = decode(syndrome)\n",
    "# print('recovery:', recovery)\n",
    "\n",
    "total_error = add_mod_two(error, recovery)\n",
    "print('total_error:', total_error)\n",
    "\n",
    "if check_for_horizontal_logical_error(total_error, l):\n",
    "    print('Horizontal logical error')\n",
    "if check_for_vertical_logical_error(total_error, l):\n",
    "    print('Vertical logical error')\n",
    "\n",
    "plot_grid(l)\n",
    "# plot_error(error, 'blue', linewidth=4)\n",
    "# plot_error(recovery, 'green', linewidth=3)\n",
    "plot_error(total_error, 'red', linewidth=5)\n",
    "plot_points(l, size=20)\n",
    "# plot_syndrome(syndrome, size=100)\n",
    "\n",
    "plt.xlim(-0.5, l - 0.5)\n",
    "plt.ylim(-0.5, l - 0.5)\n",
    "plt.xticks([i for i in range(l)])\n",
    "plt.yticks([i for i in range(l)])\n",
    "plt.show()"
   ]
  },
  {
   "cell_type": "code",
   "execution_count": null,
   "metadata": {},
   "outputs": [],
   "source": []
  }
 ],
 "metadata": {
  "kernelspec": {
   "display_name": "Python 3 (ipykernel)",
   "language": "python",
   "name": "python3"
  },
  "language_info": {
   "codemirror_mode": {
    "name": "ipython",
    "version": 3
   },
   "file_extension": ".py",
   "mimetype": "text/x-python",
   "name": "python",
   "nbconvert_exporter": "python",
   "pygments_lexer": "ipython3",
   "version": "3.12.3"
  }
 },
 "nbformat": 4,
 "nbformat_minor": 4
}
